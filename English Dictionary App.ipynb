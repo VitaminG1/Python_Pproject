{
 "cells": [
  {
   "cell_type": "code",
   "execution_count": 1,
   "id": "88b8a395",
   "metadata": {},
   "outputs": [],
   "source": [
    "import json     #as I have an words in json format, importing json\n",
    "from difflib import get_close_matches"
   ]
  },
  {
   "cell_type": "code",
   "execution_count": 2,
   "id": "6a49150d",
   "metadata": {},
   "outputs": [],
   "source": [
    "words_data = json.load(open(\"words.json\"))    #took this file from google as to find an word"
   ]
  },
  {
   "cell_type": "code",
   "execution_count": 3,
   "id": "5debcdcb",
   "metadata": {},
   "outputs": [],
   "source": [
    "def word_meaning(word):\n",
    "  \n",
    "    # translate the word in lowercase, since all the words in json file is in lower case.\n",
    "    word = word.lower()\n",
    "    \n",
    "    \n",
    "    if word in words_data:\n",
    "        return words_data[word]\n",
    "      \n",
    "    \n",
    "    elif word.title() in words_data:\n",
    "        return words_data[word.title()]\n",
    "      \n",
    "    \n",
    "    elif word.upper() in words_data:\n",
    "        return words_data[word.upper()]\n",
    "      \n",
    "   \n",
    "    elif len(get_close_matches(word, words_data.keys())) >0:\n",
    "      \n",
    "        # getting similar list of words and converting them to string format\n",
    "        similar_words_list = list(map(str, get_close_matches(word, words_data.keys())))\n",
    "        \n",
    "        # asking users if they mean any other word form the list of similar_words_list\n",
    "        ans = input(\"Did you mean %s instead? Enter 'Y' If yes or 'N' if No \" % similar_words_list)\n",
    "        \n",
    "        if ans.lower() == 'y':\n",
    "            # asking user to select the word\n",
    "            index = input(\"Enter the position number of word to select the word. Ex 1 or 2 or 3 : \")\n",
    "            return word_meaning(get_close_matches(word, words_data.keys())[int(index)-1])\n",
    "        elif ans.lower() == 'n':\n",
    "            print(\"Word Doesnt exists. Please double check it!!!\")\n",
    "        else:\n",
    "            print(\"Sorry, We don't understand you!!!!\")\n",
    "    else:\n",
    "        print(\"Word Doesnt exists. Please double check it!!!\")"
   ]
  },
  {
   "cell_type": "code",
   "execution_count": 4,
   "id": "ad1ef033",
   "metadata": {},
   "outputs": [
    {
     "name": "stdout",
     "output_type": "stream",
     "text": [
      "Enter a word :Bike\n",
      "['A vehicle with two wheels in tandem, pedals connected to the rear wheel by a chain, handlebars for steering, and a saddlelike seat.']\n"
     ]
    }
   ],
   "source": [
    "word = input(\"Enter a word : \")\n",
    "\n",
    "\n",
    "print(word_meaning(word))\n"
   ]
  },
  {
   "cell_type": "code",
   "execution_count": null,
   "id": "76dab687",
   "metadata": {},
   "outputs": [],
   "source": []
  }
 ],
 "metadata": {
  "kernelspec": {
   "display_name": "Python 3 (ipykernel)",
   "language": "python",
   "name": "python3"
  },
  "language_info": {
   "codemirror_mode": {
    "name": "ipython",
    "version": 3
   },
   "file_extension": ".py",
   "mimetype": "text/x-python",
   "name": "python",
   "nbconvert_exporter": "python",
   "pygments_lexer": "ipython3",
   "version": "3.9.12"
  }
 },
 "nbformat": 4,
 "nbformat_minor": 5
}
